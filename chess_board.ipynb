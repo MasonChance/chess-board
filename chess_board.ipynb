{
 "metadata": {
  "language_info": {
   "codemirror_mode": {
    "name": "ipython",
    "version": 3
   },
   "file_extension": ".py",
   "mimetype": "text/x-python",
   "name": "python",
   "nbconvert_exporter": "python",
   "pygments_lexer": "ipython3",
   "version": 3
  },
  "orig_nbformat": 2
 },
 "nbformat": 4,
 "nbformat_minor": 2,
 "cells": [
  {
   "source": [
    "# Feature Tasks:\n",
    "Create 8 by 8 square chessboard with alternating black and white tiles. Create two Queens one red and one blue and indicate weather a queen is under attack based on their compared coordinates. \n",
    "\n",
    "#Classes and their methods:\n",
    "- ChessBoard:\n",
    "    - init creates dimensions of the board with numpy\n",
    "    - add_red accepts row and column, adds color to specified cell\n",
    "    - add_blue accepts row and column, adds color to specified cell\n",
    "    - render uses matplotlib to render board with the \"queens\" shown in correct squares\n",
    "    - is_under_attack: compares relative coords of red vs blue and returns boolean\n",
    "    "
   ],
   "cell_type": "markdown",
   "metadata": {}
  },
  {
   "source": [
    "#### imports and assignments:"
   ],
   "cell_type": "markdown",
   "metadata": {}
  },
  {
   "cell_type": "code",
   "execution_count": null,
   "metadata": {},
   "outputs": [],
   "source": [
    "import numpy as np"
   ]
  },
  {
   "cell_type": "code",
   "execution_count": null,
   "metadata": {},
   "outputs": [],
   "source": []
  }
 ]
}